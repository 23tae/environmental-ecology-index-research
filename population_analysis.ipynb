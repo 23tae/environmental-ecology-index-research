{
 "cells": [
  {
   "cell_type": "code",
   "execution_count": 1,
   "metadata": {},
   "outputs": [],
   "source": [
    "import pandas as pd"
   ]
  },
  {
   "cell_type": "code",
   "execution_count": 3,
   "metadata": {},
   "outputs": [],
   "source": [
    "df = pd.read_csv('./data/인구밀도(2021-2022).csv', encoding='utf-8')"
   ]
  },
  {
   "cell_type": "code",
   "execution_count": 6,
   "metadata": {},
   "outputs": [
    {
     "data": {
      "text/html": [
       "<div>\n",
       "<style scoped>\n",
       "    .dataframe tbody tr th:only-of-type {\n",
       "        vertical-align: middle;\n",
       "    }\n",
       "\n",
       "    .dataframe tbody tr th {\n",
       "        vertical-align: top;\n",
       "    }\n",
       "\n",
       "    .dataframe thead th {\n",
       "        text-align: right;\n",
       "    }\n",
       "</style>\n",
       "<table border=\"1\" class=\"dataframe\">\n",
       "  <thead>\n",
       "    <tr style=\"text-align: right;\">\n",
       "      <th></th>\n",
       "      <th>동별(1)</th>\n",
       "      <th>동별(2)</th>\n",
       "      <th>동별(3)</th>\n",
       "      <th>2021</th>\n",
       "      <th>2021.1</th>\n",
       "      <th>2021.2</th>\n",
       "      <th>2022</th>\n",
       "      <th>2022.1</th>\n",
       "      <th>2022.2</th>\n",
       "    </tr>\n",
       "  </thead>\n",
       "  <tbody>\n",
       "    <tr>\n",
       "      <th>0</th>\n",
       "      <td>동별(1)</td>\n",
       "      <td>동별(2)</td>\n",
       "      <td>동별(3)</td>\n",
       "      <td>인구 (명)</td>\n",
       "      <td>면적 (㎢)</td>\n",
       "      <td>인구밀도 (명/㎢)</td>\n",
       "      <td>인구 (명)</td>\n",
       "      <td>면적 (㎢)</td>\n",
       "      <td>인구밀도 (명/㎢)</td>\n",
       "    </tr>\n",
       "    <tr>\n",
       "      <th>1</th>\n",
       "      <td>합계</td>\n",
       "      <td>소계</td>\n",
       "      <td>소계</td>\n",
       "      <td>9736027</td>\n",
       "      <td>605.24</td>\n",
       "      <td>16086</td>\n",
       "      <td>9667669</td>\n",
       "      <td>605.21</td>\n",
       "      <td>15974</td>\n",
       "    </tr>\n",
       "    <tr>\n",
       "      <th>2</th>\n",
       "      <td>합계</td>\n",
       "      <td>종로구</td>\n",
       "      <td>소계</td>\n",
       "      <td>153789</td>\n",
       "      <td>23.91</td>\n",
       "      <td>6431</td>\n",
       "      <td>152211</td>\n",
       "      <td>23.91</td>\n",
       "      <td>6365</td>\n",
       "    </tr>\n",
       "    <tr>\n",
       "      <th>3</th>\n",
       "      <td>합계</td>\n",
       "      <td>종로구</td>\n",
       "      <td>사직동</td>\n",
       "      <td>9636</td>\n",
       "      <td>1.23</td>\n",
       "      <td>7834</td>\n",
       "      <td>9355</td>\n",
       "      <td>1.23</td>\n",
       "      <td>7606</td>\n",
       "    </tr>\n",
       "    <tr>\n",
       "      <th>4</th>\n",
       "      <td>합계</td>\n",
       "      <td>종로구</td>\n",
       "      <td>삼청동</td>\n",
       "      <td>2739</td>\n",
       "      <td>1.49</td>\n",
       "      <td>1838</td>\n",
       "      <td>2642</td>\n",
       "      <td>1.49</td>\n",
       "      <td>1773</td>\n",
       "    </tr>\n",
       "  </tbody>\n",
       "</table>\n",
       "</div>"
      ],
      "text/plain": [
       "   동별(1)  동별(2)  동별(3)     2021  2021.1      2021.2     2022  2022.1  \\\n",
       "0  동별(1)  동별(2)  동별(3)   인구 (명)  면적 (㎢)  인구밀도 (명/㎢)   인구 (명)  면적 (㎢)   \n",
       "1     합계     소계     소계  9736027  605.24       16086  9667669  605.21   \n",
       "2     합계    종로구     소계   153789   23.91        6431   152211   23.91   \n",
       "3     합계    종로구    사직동     9636    1.23        7834     9355    1.23   \n",
       "4     합계    종로구    삼청동     2739    1.49        1838     2642    1.49   \n",
       "\n",
       "       2022.2  \n",
       "0  인구밀도 (명/㎢)  \n",
       "1       15974  \n",
       "2        6365  \n",
       "3        7606  \n",
       "4        1773  "
      ]
     },
     "execution_count": 6,
     "metadata": {},
     "output_type": "execute_result"
    }
   ],
   "source": [
    "df.head()"
   ]
  },
  {
   "cell_type": "code",
   "execution_count": 16,
   "metadata": {},
   "outputs": [],
   "source": [
    "df = df[df['동별(3)'] == '소계']"
   ]
  },
  {
   "cell_type": "code",
   "execution_count": 17,
   "metadata": {},
   "outputs": [
    {
     "data": {
      "text/html": [
       "<div>\n",
       "<style scoped>\n",
       "    .dataframe tbody tr th:only-of-type {\n",
       "        vertical-align: middle;\n",
       "    }\n",
       "\n",
       "    .dataframe tbody tr th {\n",
       "        vertical-align: top;\n",
       "    }\n",
       "\n",
       "    .dataframe thead th {\n",
       "        text-align: right;\n",
       "    }\n",
       "</style>\n",
       "<table border=\"1\" class=\"dataframe\">\n",
       "  <thead>\n",
       "    <tr style=\"text-align: right;\">\n",
       "      <th></th>\n",
       "      <th>동별(1)</th>\n",
       "      <th>동별(2)</th>\n",
       "      <th>동별(3)</th>\n",
       "      <th>2021</th>\n",
       "      <th>2021.1</th>\n",
       "      <th>2021.2</th>\n",
       "      <th>2022</th>\n",
       "      <th>2022.1</th>\n",
       "      <th>2022.2</th>\n",
       "    </tr>\n",
       "  </thead>\n",
       "  <tbody>\n",
       "    <tr>\n",
       "      <th>1</th>\n",
       "      <td>합계</td>\n",
       "      <td>소계</td>\n",
       "      <td>소계</td>\n",
       "      <td>9736027</td>\n",
       "      <td>605.24</td>\n",
       "      <td>16086</td>\n",
       "      <td>9667669</td>\n",
       "      <td>605.21</td>\n",
       "      <td>15974</td>\n",
       "    </tr>\n",
       "    <tr>\n",
       "      <th>2</th>\n",
       "      <td>합계</td>\n",
       "      <td>종로구</td>\n",
       "      <td>소계</td>\n",
       "      <td>153789</td>\n",
       "      <td>23.91</td>\n",
       "      <td>6431</td>\n",
       "      <td>152211</td>\n",
       "      <td>23.91</td>\n",
       "      <td>6365</td>\n",
       "    </tr>\n",
       "    <tr>\n",
       "      <th>20</th>\n",
       "      <td>합계</td>\n",
       "      <td>중구</td>\n",
       "      <td>소계</td>\n",
       "      <td>131787</td>\n",
       "      <td>9.96</td>\n",
       "      <td>13231</td>\n",
       "      <td>130785</td>\n",
       "      <td>9.96</td>\n",
       "      <td>13131</td>\n",
       "    </tr>\n",
       "    <tr>\n",
       "      <th>36</th>\n",
       "      <td>합계</td>\n",
       "      <td>용산구</td>\n",
       "      <td>소계</td>\n",
       "      <td>237285</td>\n",
       "      <td>21.87</td>\n",
       "      <td>10852</td>\n",
       "      <td>233284</td>\n",
       "      <td>21.87</td>\n",
       "      <td>10668</td>\n",
       "    </tr>\n",
       "    <tr>\n",
       "      <th>53</th>\n",
       "      <td>합계</td>\n",
       "      <td>성동구</td>\n",
       "      <td>소계</td>\n",
       "      <td>292672</td>\n",
       "      <td>16.86</td>\n",
       "      <td>17359</td>\n",
       "      <td>288234</td>\n",
       "      <td>16.82</td>\n",
       "      <td>17136</td>\n",
       "    </tr>\n",
       "  </tbody>\n",
       "</table>\n",
       "</div>"
      ],
      "text/plain": [
       "   동별(1) 동별(2) 동별(3)     2021  2021.1 2021.2     2022  2022.1 2022.2\n",
       "1     합계    소계    소계  9736027  605.24  16086  9667669  605.21  15974\n",
       "2     합계   종로구    소계   153789   23.91   6431   152211   23.91   6365\n",
       "20    합계    중구    소계   131787    9.96  13231   130785    9.96  13131\n",
       "36    합계   용산구    소계   237285   21.87  10852   233284   21.87  10668\n",
       "53    합계   성동구    소계   292672   16.86  17359   288234   16.82  17136"
      ]
     },
     "execution_count": 17,
     "metadata": {},
     "output_type": "execute_result"
    }
   ],
   "source": [
    "df.head()"
   ]
  },
  {
   "cell_type": "code",
   "execution_count": 9,
   "metadata": {},
   "outputs": [],
   "source": [
    "selected_df = df[['동별(2)', '2021', '2022']]"
   ]
  },
  {
   "cell_type": "code",
   "execution_count": 11,
   "metadata": {},
   "outputs": [],
   "source": [
    "selected_df.columns = ['자치구명', '인구_2021', '인구_2022']"
   ]
  },
  {
   "cell_type": "code",
   "execution_count": 14,
   "metadata": {},
   "outputs": [
    {
     "name": "stderr",
     "output_type": "stream",
     "text": [
      "/var/folders/qr/d0tz05096cq7wtbf54br3qsw0000gn/T/ipykernel_31523/686186407.py:1: SettingWithCopyWarning: \n",
      "A value is trying to be set on a copy of a slice from a DataFrame\n",
      "\n",
      "See the caveats in the documentation: https://pandas.pydata.org/pandas-docs/stable/user_guide/indexing.html#returning-a-view-versus-a-copy\n",
      "  selected_df.drop(index=range(2), inplace=True)\n"
     ]
    }
   ],
   "source": [
    "selected_df.drop(index=range(2), inplace=True)"
   ]
  },
  {
   "cell_type": "code",
   "execution_count": 15,
   "metadata": {},
   "outputs": [
    {
     "data": {
      "text/html": [
       "<div>\n",
       "<style scoped>\n",
       "    .dataframe tbody tr th:only-of-type {\n",
       "        vertical-align: middle;\n",
       "    }\n",
       "\n",
       "    .dataframe tbody tr th {\n",
       "        vertical-align: top;\n",
       "    }\n",
       "\n",
       "    .dataframe thead th {\n",
       "        text-align: right;\n",
       "    }\n",
       "</style>\n",
       "<table border=\"1\" class=\"dataframe\">\n",
       "  <thead>\n",
       "    <tr style=\"text-align: right;\">\n",
       "      <th></th>\n",
       "      <th>자치구명</th>\n",
       "      <th>인구(2021)</th>\n",
       "      <th>인구(2022)</th>\n",
       "    </tr>\n",
       "  </thead>\n",
       "  <tbody>\n",
       "    <tr>\n",
       "      <th>2</th>\n",
       "      <td>종로구</td>\n",
       "      <td>153789</td>\n",
       "      <td>152211</td>\n",
       "    </tr>\n",
       "    <tr>\n",
       "      <th>3</th>\n",
       "      <td>종로구</td>\n",
       "      <td>9636</td>\n",
       "      <td>9355</td>\n",
       "    </tr>\n",
       "    <tr>\n",
       "      <th>4</th>\n",
       "      <td>종로구</td>\n",
       "      <td>2739</td>\n",
       "      <td>2642</td>\n",
       "    </tr>\n",
       "    <tr>\n",
       "      <th>5</th>\n",
       "      <td>종로구</td>\n",
       "      <td>9782</td>\n",
       "      <td>9536</td>\n",
       "    </tr>\n",
       "    <tr>\n",
       "      <th>6</th>\n",
       "      <td>종로구</td>\n",
       "      <td>18329</td>\n",
       "      <td>17858</td>\n",
       "    </tr>\n",
       "  </tbody>\n",
       "</table>\n",
       "</div>"
      ],
      "text/plain": [
       "  자치구명 인구(2021) 인구(2022)\n",
       "2  종로구   153789   152211\n",
       "3  종로구     9636     9355\n",
       "4  종로구     2739     2642\n",
       "5  종로구     9782     9536\n",
       "6  종로구    18329    17858"
      ]
     },
     "execution_count": 15,
     "metadata": {},
     "output_type": "execute_result"
    }
   ],
   "source": [
    "selected_df.head()"
   ]
  },
  {
   "cell_type": "code",
   "execution_count": null,
   "metadata": {},
   "outputs": [],
   "source": []
  }
 ],
 "metadata": {
  "kernelspec": {
   "display_name": "base",
   "language": "python",
   "name": "python3"
  },
  "language_info": {
   "codemirror_mode": {
    "name": "ipython",
    "version": 3
   },
   "file_extension": ".py",
   "mimetype": "text/x-python",
   "name": "python",
   "nbconvert_exporter": "python",
   "pygments_lexer": "ipython3",
   "version": "3.11.5"
  }
 },
 "nbformat": 4,
 "nbformat_minor": 2
}
