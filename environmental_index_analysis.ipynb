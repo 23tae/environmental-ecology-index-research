{
 "cells": [
  {
   "cell_type": "code",
   "execution_count": 1,
   "metadata": {},
   "outputs": [],
   "source": [
    "import pandas as pd"
   ]
  },
  {
   "cell_type": "code",
   "execution_count": 2,
   "metadata": {},
   "outputs": [
    {
     "name": "stderr",
     "output_type": "stream",
     "text": [
      "/var/folders/qr/d0tz05096cq7wtbf54br3qsw0000gn/T/ipykernel_42423/882128261.py:5: SettingWithCopyWarning: \n",
      "A value is trying to be set on a copy of a slice from a DataFrame\n",
      "\n",
      "See the caveats in the documentation: https://pandas.pydata.org/pandas-docs/stable/user_guide/indexing.html#returning-a-view-versus-a-copy\n",
      "  df_population.drop(index=1, inplace=True)\n",
      "/var/folders/qr/d0tz05096cq7wtbf54br3qsw0000gn/T/ipykernel_42423/882128261.py:6: SettingWithCopyWarning: \n",
      "A value is trying to be set on a copy of a slice from a DataFrame.\n",
      "Try using .loc[row_indexer,col_indexer] = value instead\n",
      "\n",
      "See the caveats in the documentation: https://pandas.pydata.org/pandas-docs/stable/user_guide/indexing.html#returning-a-view-versus-a-copy\n",
      "  df_population['인구_2021'] = df_population['인구_2021'].astype(int)\n",
      "/var/folders/qr/d0tz05096cq7wtbf54br3qsw0000gn/T/ipykernel_42423/882128261.py:7: SettingWithCopyWarning: \n",
      "A value is trying to be set on a copy of a slice from a DataFrame.\n",
      "Try using .loc[row_indexer,col_indexer] = value instead\n",
      "\n",
      "See the caveats in the documentation: https://pandas.pydata.org/pandas-docs/stable/user_guide/indexing.html#returning-a-view-versus-a-copy\n",
      "  df_population['인구_2022'] = df_population['인구_2021'].astype(int)\n"
     ]
    }
   ],
   "source": [
    "df = pd.read_csv('./data/인구밀도(2021-2022).csv', encoding='utf-8')\n",
    "df = df[df['동별(3)'] == '소계']\n",
    "df_population = df[['동별(2)', '2021', '2022']]\n",
    "df_population.columns = ['자치구명', '인구_2021', '인구_2022']\n",
    "df_population.drop(index=1, inplace=True)\n",
    "df_population['인구_2021'] = df_population['인구_2021'].astype(int)\n",
    "df_population['인구_2022'] = df_population['인구_2021'].astype(int)"
   ]
  },
  {
   "cell_type": "code",
   "execution_count": 3,
   "metadata": {},
   "outputs": [],
   "source": [
    "df_elec = pd.read_csv('./data/ghgEmissions_data_electricity.csv', encoding='utf-8', skiprows=1)\n",
    "df_elec = df_elec[['자치구명', '계']]\n",
    "df_elec['계'] = df_elec['계'].str.replace(',', '').astype('float')\n",
    "df_gas = pd.read_csv('./data/ghgEmissions_data_gas.csv', encoding='utf-8', skiprows=1)\n",
    "df_gas = df_gas[['자치구명', '계']]\n",
    "df_gas['계'] = df_gas['계'].str.replace(',', '').astype('float')\n",
    "df_district_heating = pd.read_csv('./data/ghgEmissions_data_district_heating.csv', encoding='utf-8', skiprows=1)\n",
    "df_district_heating = df_district_heating[['자치구명', '계']]\n",
    "df_district_heating['계'] = df_district_heating['계'].str.replace(',', '').astype('float')\n",
    "ghg_emissions = pd.merge(df_elec, df_gas, on='자치구명')\n",
    "ghg_emissions = pd.merge(ghg_emissions, df_district_heating, on='자치구명')\n",
    "ghg_emissions['온실가스배출량'] = ghg_emissions['계_x'] + ghg_emissions['계_y'] + ghg_emissions['계']\n",
    "ghg_emissions.drop(['계_x', '계_y', '계'], axis=1, inplace=True)"
   ]
  },
  {
   "cell_type": "code",
   "execution_count": 4,
   "metadata": {},
   "outputs": [],
   "source": [
    "env_index = pd.merge(df_population, ghg_emissions, on='자치구명')\n",
    "env_index['온실가스(1인당)'] = env_index['온실가스배출량'] / env_index['인구_2022']\n",
    "env_index.drop(['온실가스배출량'], axis=1, inplace=True)"
   ]
  },
  {
   "cell_type": "code",
   "execution_count": 5,
   "metadata": {},
   "outputs": [
    {
     "name": "stderr",
     "output_type": "stream",
     "text": [
      "/var/folders/qr/d0tz05096cq7wtbf54br3qsw0000gn/T/ipykernel_42423/1242192353.py:3: SettingWithCopyWarning: \n",
      "A value is trying to be set on a copy of a slice from a DataFrame\n",
      "\n",
      "See the caveats in the documentation: https://pandas.pydata.org/pandas-docs/stable/user_guide/indexing.html#returning-a-view-versus-a-copy\n",
      "  elec_consumption.drop(index=range(4), inplace=True)\n"
     ]
    }
   ],
   "source": [
    "df = pd.read_csv('./data/전력+사용량(용도별).csv', encoding='utf-8')\n",
    "elec_consumption = df[['자치구별(2)', '2022']]\n",
    "elec_consumption.drop(index=range(4), inplace=True)\n",
    "elec_consumption.columns = ['자치구명', '전력사용량']"
   ]
  },
  {
   "cell_type": "code",
   "execution_count": 6,
   "metadata": {},
   "outputs": [],
   "source": [
    "env_index = pd.merge(env_index, elec_consumption, on='자치구명')"
   ]
  },
  {
   "cell_type": "code",
   "execution_count": 7,
   "metadata": {},
   "outputs": [],
   "source": [
    "df = pd.read_csv('./data/서울특별시 공공자전거 대여소별 이용정보(월별)_23.1-6.csv', encoding='cp949')\n",
    "df['대여건수'] = pd.to_numeric(df['대여건수'].str.replace(',', ''), errors='coerce')\n",
    "df['반납건수'] = pd.to_numeric(df['반납건수'].str.replace(',', ''), errors='coerce')\n",
    "bicycle_usage = df.groupby('자치구', as_index=False).agg({'대여건수': 'sum', '반납건수': 'sum'})\n",
    "bicycle_usage.columns = ['자치구명', '자전거_대여건수', '자전거_반납건수']\n",
    "bicycle_usage['공공자전거_이용건수'] = (bicycle_usage['자전거_대여건수'] + bicycle_usage['자전거_반납건수'])/2\n",
    "bicycle_usage['공공자전거_이용건수'] = bicycle_usage['공공자전거_이용건수'].astype(int)\n",
    "bicycle_usage.drop(['자전거_대여건수', '자전거_반납건수'], axis=1, inplace=True)"
   ]
  },
  {
   "cell_type": "code",
   "execution_count": 8,
   "metadata": {},
   "outputs": [],
   "source": [
    "env_index = pd.merge(env_index, bicycle_usage, on='자치구명')"
   ]
  },
  {
   "cell_type": "code",
   "execution_count": 9,
   "metadata": {},
   "outputs": [
    {
     "name": "stderr",
     "output_type": "stream",
     "text": [
      "/var/folders/qr/d0tz05096cq7wtbf54br3qsw0000gn/T/ipykernel_42423/19716127.py:4: SettingWithCopyWarning: \n",
      "A value is trying to be set on a copy of a slice from a DataFrame\n",
      "\n",
      "See the caveats in the documentation: https://pandas.pydata.org/pandas-docs/stable/user_guide/indexing.html#returning-a-view-versus-a-copy\n",
      "  water_usage.drop(index=range(4), inplace=True)\n",
      "/var/folders/qr/d0tz05096cq7wtbf54br3qsw0000gn/T/ipykernel_42423/19716127.py:5: SettingWithCopyWarning: \n",
      "A value is trying to be set on a copy of a slice from a DataFrame.\n",
      "Try using .loc[row_indexer,col_indexer] = value instead\n",
      "\n",
      "See the caveats in the documentation: https://pandas.pydata.org/pandas-docs/stable/user_guide/indexing.html#returning-a-view-versus-a-copy\n",
      "  water_usage['급수사용량'] = water_usage['급수사용량'].astype('float')\n"
     ]
    }
   ],
   "source": [
    "df = pd.read_csv('./data/급수+사용량+및+사용료(2012년+이후).csv', encoding='utf-8')\n",
    "water_usage = df[['자치구별(2)', '2022']]\n",
    "water_usage.columns = ['자치구명', '급수사용량']\n",
    "water_usage.drop(index=range(4), inplace=True)\n",
    "water_usage['급수사용량'] = water_usage['급수사용량'].astype('float')"
   ]
  },
  {
   "cell_type": "code",
   "execution_count": 10,
   "metadata": {},
   "outputs": [],
   "source": [
    "env_index = pd.merge(env_index, water_usage, on='자치구명')"
   ]
  },
  {
   "cell_type": "code",
   "execution_count": 11,
   "metadata": {},
   "outputs": [],
   "source": [
    "env_index['급수사용량(1인당)'] = env_index['급수사용량'] / env_index['인구_2022']\n",
    "env_index.drop(['급수사용량'], axis=1, inplace=True)"
   ]
  },
  {
   "cell_type": "code",
   "execution_count": 12,
   "metadata": {},
   "outputs": [],
   "source": [
    "waste_emission = pd.read_csv('./data/주민+1인당+생활폐기물(쓰레기)+배출량.csv', encoding='utf-8')\n",
    "waste_emission.columns = ['자치구명', '쓰레기배출량(1인당)', '생활폐기물 배출량', '주민수']\n",
    "waste_emission = waste_emission[['자치구명', '쓰레기배출량(1인당)']]\n",
    "waste_emission.drop(range(2), inplace=True)"
   ]
  },
  {
   "cell_type": "code",
   "execution_count": 13,
   "metadata": {},
   "outputs": [],
   "source": [
    "env_index = pd.merge(env_index, waste_emission, on='자치구명')"
   ]
  },
  {
   "cell_type": "code",
   "execution_count": 14,
   "metadata": {},
   "outputs": [],
   "source": [
    "df = pd.read_csv('./data/대기오염(구별).csv', encoding='utf-8')\n",
    "air_data = df[['구분별(1)']].join(df.filter(like='2022', axis=1))\n",
    "air_data.drop(index=range(1,4), inplace=True)\n",
    "air_data.columns = ['자치구명', '아황산가스', '일산화탄소', '이산화질소', '미세먼지', '초미세먼지', '오존']\n",
    "air_data.drop(index=0, columns=['일산화탄소', '초미세먼지'], inplace=True)"
   ]
  },
  {
   "cell_type": "code",
   "execution_count": 15,
   "metadata": {},
   "outputs": [],
   "source": [
    "env_index = pd.merge(env_index, air_data, on='자치구명')"
   ]
  },
  {
   "cell_type": "code",
   "execution_count": 16,
   "metadata": {},
   "outputs": [
    {
     "name": "stderr",
     "output_type": "stream",
     "text": [
      "/var/folders/qr/d0tz05096cq7wtbf54br3qsw0000gn/T/ipykernel_42423/2230141381.py:3: SettingWithCopyWarning: \n",
      "A value is trying to be set on a copy of a slice from a DataFrame\n",
      "\n",
      "See the caveats in the documentation: https://pandas.pydata.org/pandas-docs/stable/user_guide/indexing.html#returning-a-view-versus-a-copy\n",
      "  park.drop(index=range(5), inplace=True)\n",
      "/var/folders/qr/d0tz05096cq7wtbf54br3qsw0000gn/T/ipykernel_42423/2230141381.py:4: SettingWithCopyWarning: \n",
      "A value is trying to be set on a copy of a slice from a DataFrame\n",
      "\n",
      "See the caveats in the documentation: https://pandas.pydata.org/pandas-docs/stable/user_guide/indexing.html#returning-a-view-versus-a-copy\n",
      "  park.drop(index=30, inplace=True)\n",
      "/var/folders/qr/d0tz05096cq7wtbf54br3qsw0000gn/T/ipykernel_42423/2230141381.py:6: SettingWithCopyWarning: \n",
      "A value is trying to be set on a copy of a slice from a DataFrame.\n",
      "Try using .loc[row_indexer,col_indexer] = value instead\n",
      "\n",
      "See the caveats in the documentation: https://pandas.pydata.org/pandas-docs/stable/user_guide/indexing.html#returning-a-view-versus-a-copy\n",
      "  park['공원면적'] = park['공원면적'].astype('float')\n"
     ]
    }
   ],
   "source": [
    "df = pd.read_csv('./data/서울시_공원통계(2022).csv', encoding='utf-8')\n",
    "park = df[['자치구별(2)', '2022.2']]\n",
    "park.drop(index=range(5), inplace=True)\n",
    "park.drop(index=30, inplace=True)\n",
    "park.columns = ['자치구명', '공원면적']\n",
    "park['공원면적'] = park['공원면적'].astype('float')"
   ]
  },
  {
   "cell_type": "code",
   "execution_count": 17,
   "metadata": {},
   "outputs": [],
   "source": [
    "env_index = pd.merge(env_index, park, on='자치구명')"
   ]
  },
  {
   "cell_type": "code",
   "execution_count": 18,
   "metadata": {},
   "outputs": [],
   "source": [
    "env_index['공원면적(1인당)'] = env_index['공원면적'] / env_index['인구_2022']\n",
    "env_index.drop(columns=['공원면적', '인구_2021', '인구_2022'], inplace=True)"
   ]
  },
  {
   "cell_type": "code",
   "execution_count": 19,
   "metadata": {},
   "outputs": [
    {
     "data": {
      "text/html": [
       "<div>\n",
       "<style scoped>\n",
       "    .dataframe tbody tr th:only-of-type {\n",
       "        vertical-align: middle;\n",
       "    }\n",
       "\n",
       "    .dataframe tbody tr th {\n",
       "        vertical-align: top;\n",
       "    }\n",
       "\n",
       "    .dataframe thead th {\n",
       "        text-align: right;\n",
       "    }\n",
       "</style>\n",
       "<table border=\"1\" class=\"dataframe\">\n",
       "  <thead>\n",
       "    <tr style=\"text-align: right;\">\n",
       "      <th></th>\n",
       "      <th>자치구명</th>\n",
       "      <th>온실가스(1인당)</th>\n",
       "      <th>전력사용량</th>\n",
       "      <th>공공자전거_이용건수</th>\n",
       "      <th>급수사용량(1인당)</th>\n",
       "      <th>쓰레기배출량(1인당)</th>\n",
       "      <th>아황산가스</th>\n",
       "      <th>이산화질소</th>\n",
       "      <th>미세먼지</th>\n",
       "      <th>오존</th>\n",
       "      <th>공원면적(1인당)</th>\n",
       "    </tr>\n",
       "  </thead>\n",
       "  <tbody>\n",
       "    <tr>\n",
       "      <th>0</th>\n",
       "      <td>종로구</td>\n",
       "      <td>6.764409</td>\n",
       "      <td>1721240</td>\n",
       "      <td>726636</td>\n",
       "      <td>0.165591</td>\n",
       "      <td>1.49</td>\n",
       "      <td>0.003</td>\n",
       "      <td>0.021</td>\n",
       "      <td>32</td>\n",
       "      <td>0.031</td>\n",
       "      <td>0.074353</td>\n",
       "    </tr>\n",
       "    <tr>\n",
       "      <th>1</th>\n",
       "      <td>중구</td>\n",
       "      <td>10.138907</td>\n",
       "      <td>2305200</td>\n",
       "      <td>500302</td>\n",
       "      <td>0.206970</td>\n",
       "      <td>2.26</td>\n",
       "      <td>0.003</td>\n",
       "      <td>0.024</td>\n",
       "      <td>30</td>\n",
       "      <td>0.030</td>\n",
       "      <td>0.024329</td>\n",
       "    </tr>\n",
       "    <tr>\n",
       "      <th>2</th>\n",
       "      <td>용산구</td>\n",
       "      <td>3.827852</td>\n",
       "      <td>1514990</td>\n",
       "      <td>441899</td>\n",
       "      <td>0.115397</td>\n",
       "      <td>1.24</td>\n",
       "      <td>0.003</td>\n",
       "      <td>0.021</td>\n",
       "      <td>33</td>\n",
       "      <td>0.030</td>\n",
       "      <td>0.007476</td>\n",
       "    </tr>\n",
       "    <tr>\n",
       "      <th>3</th>\n",
       "      <td>성동구</td>\n",
       "      <td>4.072864</td>\n",
       "      <td>2235050</td>\n",
       "      <td>859819</td>\n",
       "      <td>0.107414</td>\n",
       "      <td>0.93</td>\n",
       "      <td>0.003</td>\n",
       "      <td>0.021</td>\n",
       "      <td>35</td>\n",
       "      <td>0.028</td>\n",
       "      <td>0.010537</td>\n",
       "    </tr>\n",
       "    <tr>\n",
       "      <th>4</th>\n",
       "      <td>광진구</td>\n",
       "      <td>2.736378</td>\n",
       "      <td>1616001</td>\n",
       "      <td>1042726</td>\n",
       "      <td>0.101943</td>\n",
       "      <td>0.71</td>\n",
       "      <td>0.003</td>\n",
       "      <td>0.019</td>\n",
       "      <td>31</td>\n",
       "      <td>0.027</td>\n",
       "      <td>0.009812</td>\n",
       "    </tr>\n",
       "  </tbody>\n",
       "</table>\n",
       "</div>"
      ],
      "text/plain": [
       "  자치구명  온실가스(1인당)    전력사용량  공공자전거_이용건수  급수사용량(1인당) 쓰레기배출량(1인당)  아황산가스  이산화질소  \\\n",
       "0  종로구   6.764409  1721240      726636    0.165591        1.49  0.003  0.021   \n",
       "1   중구  10.138907  2305200      500302    0.206970        2.26  0.003  0.024   \n",
       "2  용산구   3.827852  1514990      441899    0.115397        1.24  0.003  0.021   \n",
       "3  성동구   4.072864  2235050      859819    0.107414        0.93  0.003  0.021   \n",
       "4  광진구   2.736378  1616001     1042726    0.101943        0.71  0.003  0.019   \n",
       "\n",
       "  미세먼지     오존  공원면적(1인당)  \n",
       "0   32  0.031   0.074353  \n",
       "1   30  0.030   0.024329  \n",
       "2   33  0.030   0.007476  \n",
       "3   35  0.028   0.010537  \n",
       "4   31  0.027   0.009812  "
      ]
     },
     "execution_count": 19,
     "metadata": {},
     "output_type": "execute_result"
    }
   ],
   "source": [
    "env_index.head()"
   ]
  },
  {
   "cell_type": "code",
   "execution_count": 20,
   "metadata": {},
   "outputs": [],
   "source": [
    "env_index.to_csv('./result/seoul_env_data.csv', encoding='utf-8-sig', index=False)"
   ]
  },
  {
   "cell_type": "code",
   "execution_count": null,
   "metadata": {},
   "outputs": [],
   "source": []
  }
 ],
 "metadata": {
  "kernelspec": {
   "display_name": "base",
   "language": "python",
   "name": "python3"
  },
  "language_info": {
   "codemirror_mode": {
    "name": "ipython",
    "version": 3
   },
   "file_extension": ".py",
   "mimetype": "text/x-python",
   "name": "python",
   "nbconvert_exporter": "python",
   "pygments_lexer": "ipython3",
   "version": "3.11.5"
  }
 },
 "nbformat": 4,
 "nbformat_minor": 2
}
