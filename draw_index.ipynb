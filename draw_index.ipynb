{
 "cells": [
  {
   "cell_type": "code",
   "execution_count": 41,
   "metadata": {},
   "outputs": [],
   "source": [
    "import pandas as pd"
   ]
  },
  {
   "cell_type": "code",
   "execution_count": 87,
   "metadata": {},
   "outputs": [],
   "source": [
    "df = pd.read_csv('./result/seoul_env_data.csv', encoding='utf-8')"
   ]
  },
  {
   "cell_type": "code",
   "execution_count": 43,
   "metadata": {},
   "outputs": [],
   "source": [
    "from sklearn.preprocessing import MinMaxScaler"
   ]
  },
  {
   "cell_type": "code",
   "execution_count": 44,
   "metadata": {},
   "outputs": [],
   "source": [
    "numeric_columns = df.select_dtypes(include=['int64', 'float64']).columns\n",
    "numeric_data = df[numeric_columns]\n",
    "scaler = MinMaxScaler()\n",
    "normalized_data = scaler.fit_transform(numeric_data)\n",
    "normalized_df = pd.DataFrame(normalized_data, columns=numeric_columns)\n",
    "first_column = df.pop('자치구명')\n",
    "normalized_df.insert(0, '자치구명', first_column)"
   ]
  },
  {
   "cell_type": "code",
   "execution_count": 3,
   "metadata": {},
   "outputs": [
    {
     "name": "stderr",
     "output_type": "stream",
     "text": [
      "/var/folders/qr/d0tz05096cq7wtbf54br3qsw0000gn/T/ipykernel_41612/3115806717.py:3: SettingWithCopyWarning: \n",
      "A value is trying to be set on a copy of a slice from a DataFrame\n",
      "\n",
      "See the caveats in the documentation: https://pandas.pydata.org/pandas-docs/stable/user_guide/indexing.html#returning-a-view-versus-a-copy\n",
      "  normalized_df.loc['total'] = normalized_df[columns_to_average].sum()\n"
     ]
    }
   ],
   "source": [
    "columns_to_average = df.columns.difference(['자치구명'])\n",
    "normalized_df = df[:]\n",
    "normalized_df.loc['total'] = normalized_df[columns_to_average].sum()"
   ]
  },
  {
   "cell_type": "code",
   "execution_count": 4,
   "metadata": {},
   "outputs": [],
   "source": [
    "cols = [normalized_df.columns][0]"
   ]
  },
  {
   "cell_type": "code",
   "execution_count": 5,
   "metadata": {},
   "outputs": [
    {
     "name": "stderr",
     "output_type": "stream",
     "text": [
      "/var/folders/qr/d0tz05096cq7wtbf54br3qsw0000gn/T/ipykernel_41612/1625842433.py:3: SettingWithCopyWarning: \n",
      "A value is trying to be set on a copy of a slice from a DataFrame.\n",
      "Try using .loc[row_indexer,col_indexer] = value instead\n",
      "\n",
      "See the caveats in the documentation: https://pandas.pydata.org/pandas-docs/stable/user_guide/indexing.html#returning-a-view-versus-a-copy\n",
      "  normalized_df[col] = normalized_df[col] / normalized_df.loc['total', col]\n"
     ]
    }
   ],
   "source": [
    "for col in cols:\n",
    "    if col != '자치구명':\n",
    "        normalized_df[col] = normalized_df[col] / normalized_df.loc['total', col]"
   ]
  },
  {
   "cell_type": "code",
   "execution_count": 6,
   "metadata": {},
   "outputs": [],
   "source": [
    "normalized_df.drop(index='total', inplace=True)"
   ]
  },
  {
   "cell_type": "code",
   "execution_count": 45,
   "metadata": {},
   "outputs": [],
   "source": [
    "normalized_df.to_csv('./result/seoul_env_data_normalized.csv', encoding='utf-8-sig', index=False)"
   ]
  },
  {
   "cell_type": "code",
   "execution_count": 81,
   "metadata": {},
   "outputs": [],
   "source": [
    "normalized_df['환경생태지수'] = (normalized_df['온실가스(1인당)'] + normalized_df['전력사용량'] + normalized_df['급수사용량(1인당)'] + normalized_df['쓰레기배출량(1인당)'] + normalized_df['아황산가스'] + normalized_df['이산화질소'] + normalized_df['미세먼지'] + normalized_df['오존']) * -1/5 \\\n",
    "    + (normalized_df['공공자전거_이용건수'] + normalized_df['공원면적(1인당)']) * 8"
   ]
  },
  {
   "cell_type": "code",
   "execution_count": 82,
   "metadata": {},
   "outputs": [],
   "source": [
    "normalized_df.drop(columns=['온실가스(1인당)', '전력사용량', '공공자전거_이용건수', '급수사용량(1인당)', '쓰레기배출량(1인당)',\n",
    "       '아황산가스', '이산화질소', '미세먼지', '오존', '공원면적(1인당)'], inplace=True)"
   ]
  },
  {
   "cell_type": "code",
   "execution_count": 83,
   "metadata": {},
   "outputs": [],
   "source": [
    "normalized_df.sort_values(by='환경생태지수', ascending=False, inplace=True)"
   ]
  },
  {
   "cell_type": "code",
   "execution_count": 91,
   "metadata": {},
   "outputs": [
    {
     "data": {
      "text/html": [
       "<div>\n",
       "<style scoped>\n",
       "    .dataframe tbody tr th:only-of-type {\n",
       "        vertical-align: middle;\n",
       "    }\n",
       "\n",
       "    .dataframe tbody tr th {\n",
       "        vertical-align: top;\n",
       "    }\n",
       "\n",
       "    .dataframe thead th {\n",
       "        text-align: right;\n",
       "    }\n",
       "</style>\n",
       "<table border=\"1\" class=\"dataframe\">\n",
       "  <thead>\n",
       "    <tr style=\"text-align: right;\">\n",
       "      <th></th>\n",
       "      <th>자치구명</th>\n",
       "      <th>온실가스(1인당)</th>\n",
       "      <th>전력사용량</th>\n",
       "      <th>공공자전거_이용건수</th>\n",
       "      <th>급수사용량(1인당)</th>\n",
       "      <th>쓰레기배출량(1인당)</th>\n",
       "      <th>아황산가스</th>\n",
       "      <th>이산화질소</th>\n",
       "      <th>미세먼지</th>\n",
       "      <th>오존</th>\n",
       "      <th>공원면적(1인당)</th>\n",
       "    </tr>\n",
       "  </thead>\n",
       "  <tbody>\n",
       "    <tr>\n",
       "      <th>0</th>\n",
       "      <td>종로구</td>\n",
       "      <td>0.572880</td>\n",
       "      <td>0.210463</td>\n",
       "      <td>0.189263</td>\n",
       "      <td>0.648285</td>\n",
       "      <td>0.274648</td>\n",
       "      <td>1.0</td>\n",
       "      <td>0.666667</td>\n",
       "      <td>0.285714</td>\n",
       "      <td>0.857143</td>\n",
       "      <td>1.000000</td>\n",
       "    </tr>\n",
       "    <tr>\n",
       "      <th>1</th>\n",
       "      <td>중구</td>\n",
       "      <td>1.000000</td>\n",
       "      <td>0.359147</td>\n",
       "      <td>0.080723</td>\n",
       "      <td>1.000000</td>\n",
       "      <td>0.545775</td>\n",
       "      <td>1.0</td>\n",
       "      <td>1.000000</td>\n",
       "      <td>0.000000</td>\n",
       "      <td>0.714286</td>\n",
       "      <td>0.294442</td>\n",
       "    </tr>\n",
       "    <tr>\n",
       "      <th>2</th>\n",
       "      <td>용산구</td>\n",
       "      <td>0.201191</td>\n",
       "      <td>0.157949</td>\n",
       "      <td>0.052716</td>\n",
       "      <td>0.221657</td>\n",
       "      <td>0.186620</td>\n",
       "      <td>1.0</td>\n",
       "      <td>0.666667</td>\n",
       "      <td>0.428571</td>\n",
       "      <td>0.714286</td>\n",
       "      <td>0.056749</td>\n",
       "    </tr>\n",
       "    <tr>\n",
       "      <th>3</th>\n",
       "      <td>성동구</td>\n",
       "      <td>0.232203</td>\n",
       "      <td>0.341286</td>\n",
       "      <td>0.253132</td>\n",
       "      <td>0.153802</td>\n",
       "      <td>0.077465</td>\n",
       "      <td>1.0</td>\n",
       "      <td>0.666667</td>\n",
       "      <td>0.714286</td>\n",
       "      <td>0.428571</td>\n",
       "      <td>0.099915</td>\n",
       "    </tr>\n",
       "    <tr>\n",
       "      <th>4</th>\n",
       "      <td>광진구</td>\n",
       "      <td>0.063040</td>\n",
       "      <td>0.183668</td>\n",
       "      <td>0.340846</td>\n",
       "      <td>0.107305</td>\n",
       "      <td>0.000000</td>\n",
       "      <td>1.0</td>\n",
       "      <td>0.444444</td>\n",
       "      <td>0.142857</td>\n",
       "      <td>0.285714</td>\n",
       "      <td>0.089686</td>\n",
       "    </tr>\n",
       "  </tbody>\n",
       "</table>\n",
       "</div>"
      ],
      "text/plain": [
       "  자치구명  온실가스(1인당)     전력사용량  공공자전거_이용건수  급수사용량(1인당)  쓰레기배출량(1인당)  아황산가스  \\\n",
       "0  종로구   0.572880  0.210463    0.189263    0.648285     0.274648    1.0   \n",
       "1   중구   1.000000  0.359147    0.080723    1.000000     0.545775    1.0   \n",
       "2  용산구   0.201191  0.157949    0.052716    0.221657     0.186620    1.0   \n",
       "3  성동구   0.232203  0.341286    0.253132    0.153802     0.077465    1.0   \n",
       "4  광진구   0.063040  0.183668    0.340846    0.107305     0.000000    1.0   \n",
       "\n",
       "      이산화질소      미세먼지        오존  공원면적(1인당)  \n",
       "0  0.666667  0.285714  0.857143   1.000000  \n",
       "1  1.000000  0.000000  0.714286   0.294442  \n",
       "2  0.666667  0.428571  0.714286   0.056749  \n",
       "3  0.666667  0.714286  0.428571   0.099915  \n",
       "4  0.444444  0.142857  0.285714   0.089686  "
      ]
     },
     "execution_count": 91,
     "metadata": {},
     "output_type": "execute_result"
    }
   ],
   "source": [
    "normalized_df.head()"
   ]
  },
  {
   "cell_type": "code",
   "execution_count": 84,
   "metadata": {},
   "outputs": [],
   "source": [
    "normalized_df.to_csv('./result/seoul_env_index.csv', encoding='utf-8-sig', index=False)"
   ]
  }
 ],
 "metadata": {
  "kernelspec": {
   "display_name": "base",
   "language": "python",
   "name": "python3"
  },
  "language_info": {
   "codemirror_mode": {
    "name": "ipython",
    "version": 3
   },
   "file_extension": ".py",
   "mimetype": "text/x-python",
   "name": "python",
   "nbconvert_exporter": "python",
   "pygments_lexer": "ipython3",
   "version": "3.11.5"
  }
 },
 "nbformat": 4,
 "nbformat_minor": 2
}
