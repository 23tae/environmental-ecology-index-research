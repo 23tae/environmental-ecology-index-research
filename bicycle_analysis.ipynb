{
 "cells": [
  {
   "cell_type": "code",
   "execution_count": 1,
   "metadata": {},
   "outputs": [],
   "source": [
    "import pandas as pd"
   ]
  },
  {
   "cell_type": "code",
   "execution_count": 2,
   "metadata": {},
   "outputs": [],
   "source": [
    "df = pd.read_csv('./data/서울특별시 공공자전거 대여소별 이용정보(월별)_23.1-6.csv', encoding='cp949')"
   ]
  },
  {
   "cell_type": "code",
   "execution_count": 3,
   "metadata": {},
   "outputs": [
    {
     "data": {
      "text/html": [
       "<div>\n",
       "<style scoped>\n",
       "    .dataframe tbody tr th:only-of-type {\n",
       "        vertical-align: middle;\n",
       "    }\n",
       "\n",
       "    .dataframe tbody tr th {\n",
       "        vertical-align: top;\n",
       "    }\n",
       "\n",
       "    .dataframe thead th {\n",
       "        text-align: right;\n",
       "    }\n",
       "</style>\n",
       "<table border=\"1\" class=\"dataframe\">\n",
       "  <thead>\n",
       "    <tr style=\"text-align: right;\">\n",
       "      <th></th>\n",
       "      <th>자치구</th>\n",
       "      <th>대여소명</th>\n",
       "      <th>기준년월</th>\n",
       "      <th>대여건수</th>\n",
       "      <th>반납건수</th>\n",
       "    </tr>\n",
       "  </thead>\n",
       "  <tbody>\n",
       "    <tr>\n",
       "      <th>0</th>\n",
       "      <td>강남구</td>\n",
       "      <td>2301. 현대고등학교 건너편</td>\n",
       "      <td>202301</td>\n",
       "      <td>383</td>\n",
       "      <td>439</td>\n",
       "    </tr>\n",
       "    <tr>\n",
       "      <th>1</th>\n",
       "      <td>강남구</td>\n",
       "      <td>2302. 교보타워 버스정류장(신논현역 3번출구 후면)</td>\n",
       "      <td>202301</td>\n",
       "      <td>433</td>\n",
       "      <td>446</td>\n",
       "    </tr>\n",
       "    <tr>\n",
       "      <th>2</th>\n",
       "      <td>강남구</td>\n",
       "      <td>2303. 논현역 10번출구</td>\n",
       "      <td>202301</td>\n",
       "      <td>648</td>\n",
       "      <td>508</td>\n",
       "    </tr>\n",
       "    <tr>\n",
       "      <th>3</th>\n",
       "      <td>강남구</td>\n",
       "      <td>2304. 대현그린타워</td>\n",
       "      <td>202301</td>\n",
       "      <td>76</td>\n",
       "      <td>55</td>\n",
       "    </tr>\n",
       "    <tr>\n",
       "      <th>4</th>\n",
       "      <td>강남구</td>\n",
       "      <td>2305. MCM 본사 직영점 앞</td>\n",
       "      <td>202301</td>\n",
       "      <td>172</td>\n",
       "      <td>179</td>\n",
       "    </tr>\n",
       "    <tr>\n",
       "      <th>...</th>\n",
       "      <td>...</td>\n",
       "      <td>...</td>\n",
       "      <td>...</td>\n",
       "      <td>...</td>\n",
       "      <td>...</td>\n",
       "    </tr>\n",
       "    <tr>\n",
       "      <th>16301</th>\n",
       "      <td>중랑구</td>\n",
       "      <td>4837. 양원지구 힐데스하임 앞</td>\n",
       "      <td>202306</td>\n",
       "      <td>853</td>\n",
       "      <td>827</td>\n",
       "    </tr>\n",
       "    <tr>\n",
       "      <th>16302</th>\n",
       "      <td>중랑구</td>\n",
       "      <td>4838.동원사거리 행복오피스텔 앞</td>\n",
       "      <td>202306</td>\n",
       "      <td>900</td>\n",
       "      <td>669</td>\n",
       "    </tr>\n",
       "    <tr>\n",
       "      <th>16303</th>\n",
       "      <td>중랑구</td>\n",
       "      <td>4840. 서울시 북부병원 앞</td>\n",
       "      <td>202306</td>\n",
       "      <td>875</td>\n",
       "      <td>897</td>\n",
       "    </tr>\n",
       "    <tr>\n",
       "      <th>16304</th>\n",
       "      <td>중랑구</td>\n",
       "      <td>4841. 중화수경공원</td>\n",
       "      <td>202306</td>\n",
       "      <td>1886</td>\n",
       "      <td>2147</td>\n",
       "    </tr>\n",
       "    <tr>\n",
       "      <th>16305</th>\n",
       "      <td>중랑구</td>\n",
       "      <td>4842. 면목라온프라이빗 아파트</td>\n",
       "      <td>202306</td>\n",
       "      <td>765</td>\n",
       "      <td>867</td>\n",
       "    </tr>\n",
       "  </tbody>\n",
       "</table>\n",
       "<p>16306 rows × 5 columns</p>\n",
       "</div>"
      ],
      "text/plain": [
       "       자치구                            대여소명    기준년월   대여건수   반납건수\n",
       "0      강남구                2301. 현대고등학교 건너편  202301   383    439 \n",
       "1      강남구  2302. 교보타워 버스정류장(신논현역 3번출구 후면)  202301   433    446 \n",
       "2      강남구                 2303. 논현역 10번출구  202301   648    508 \n",
       "3      강남구                    2304. 대현그린타워  202301    76     55 \n",
       "4      강남구              2305. MCM 본사 직영점 앞  202301   172    179 \n",
       "...    ...                             ...     ...    ...    ...\n",
       "16301  중랑구              4837. 양원지구 힐데스하임 앞  202306    853    827\n",
       "16302  중랑구             4838.동원사거리 행복오피스텔 앞  202306    900    669\n",
       "16303  중랑구                4840. 서울시 북부병원 앞  202306    875    897\n",
       "16304  중랑구                    4841. 중화수경공원  202306   1886   2147\n",
       "16305  중랑구              4842. 면목라온프라이빗 아파트  202306    765    867\n",
       "\n",
       "[16306 rows x 5 columns]"
      ]
     },
     "execution_count": 3,
     "metadata": {},
     "output_type": "execute_result"
    }
   ],
   "source": [
    "df"
   ]
  },
  {
   "cell_type": "code",
   "execution_count": 24,
   "metadata": {},
   "outputs": [],
   "source": [
    "df['대여건수'] = pd.to_numeric(df['대여건수'].str.replace(',', ''), errors='coerce')\n",
    "df['반납건수'] = pd.to_numeric(df['반납건수'].str.replace(',', ''), errors='coerce')"
   ]
  },
  {
   "cell_type": "code",
   "execution_count": 25,
   "metadata": {},
   "outputs": [],
   "source": [
    "result_df = df.groupby('자치구', as_index=False).agg({'대여건수': 'sum', '반납건수': 'sum'})"
   ]
  },
  {
   "cell_type": "code",
   "execution_count": 26,
   "metadata": {},
   "outputs": [],
   "source": [
    "result_df.columns = ['자치구명', '대여건수', '반납건수']"
   ]
  },
  {
   "cell_type": "code",
   "execution_count": 27,
   "metadata": {},
   "outputs": [
    {
     "data": {
      "text/html": [
       "<div>\n",
       "<style scoped>\n",
       "    .dataframe tbody tr th:only-of-type {\n",
       "        vertical-align: middle;\n",
       "    }\n",
       "\n",
       "    .dataframe tbody tr th {\n",
       "        vertical-align: top;\n",
       "    }\n",
       "\n",
       "    .dataframe thead th {\n",
       "        text-align: right;\n",
       "    }\n",
       "</style>\n",
       "<table border=\"1\" class=\"dataframe\">\n",
       "  <thead>\n",
       "    <tr style=\"text-align: right;\">\n",
       "      <th></th>\n",
       "      <th>자치구명</th>\n",
       "      <th>대여건수</th>\n",
       "      <th>반납건수</th>\n",
       "    </tr>\n",
       "  </thead>\n",
       "  <tbody>\n",
       "    <tr>\n",
       "      <th>0</th>\n",
       "      <td>강남구</td>\n",
       "      <td>673634</td>\n",
       "      <td>633867.0</td>\n",
       "    </tr>\n",
       "    <tr>\n",
       "      <th>1</th>\n",
       "      <td>강동구</td>\n",
       "      <td>933894</td>\n",
       "      <td>939209.0</td>\n",
       "    </tr>\n",
       "    <tr>\n",
       "      <th>2</th>\n",
       "      <td>강북구</td>\n",
       "      <td>335276</td>\n",
       "      <td>328670.0</td>\n",
       "    </tr>\n",
       "    <tr>\n",
       "      <th>3</th>\n",
       "      <td>강서구</td>\n",
       "      <td>2425742</td>\n",
       "      <td>2408730.0</td>\n",
       "    </tr>\n",
       "    <tr>\n",
       "      <th>4</th>\n",
       "      <td>관악구</td>\n",
       "      <td>540994</td>\n",
       "      <td>529883.0</td>\n",
       "    </tr>\n",
       "  </tbody>\n",
       "</table>\n",
       "</div>"
      ],
      "text/plain": [
       "  자치구명     대여건수       반납건수\n",
       "0  강남구   673634   633867.0\n",
       "1  강동구   933894   939209.0\n",
       "2  강북구   335276   328670.0\n",
       "3  강서구  2425742  2408730.0\n",
       "4  관악구   540994   529883.0"
      ]
     },
     "execution_count": 27,
     "metadata": {},
     "output_type": "execute_result"
    }
   ],
   "source": [
    "result_df.head()"
   ]
  },
  {
   "cell_type": "code",
   "execution_count": 82,
   "metadata": {},
   "outputs": [],
   "source": [
    "import matplotlib.pyplot as plt\n",
    "import matplotlib\n",
    "from matplotlib import ticker"
   ]
  },
  {
   "cell_type": "code",
   "execution_count": 74,
   "metadata": {},
   "outputs": [],
   "source": [
    "matplotlib.rcParams['font.family'] = 'appleGothic'\n",
    "matplotlib.rcParams['axes.unicode_minus'] = False"
   ]
  },
  {
   "cell_type": "code",
   "execution_count": 97,
   "metadata": {},
   "outputs": [
    {
     "data": {
      "image/png": "[encoded data removed]",
      "text/plain": [
       "<Figure size 1000x500 with 1 Axes>"
      ]
     },
     "metadata": {},
     "output_type": "display_data"
    }
   ],
   "source": [
    "plt.figure(figsize=(10, 5))\n",
    "plt.title('2023년 서울시 자치구별 공공자전거 대여건수')\n",
    "plt.bar(result_df['자치구'], result_df['대여건수'], color='green')\n",
    "formatter = ticker.ScalarFormatter()\n",
    "formatter.set_scientific(False)\n",
    "plt.xticks(rotation=45)\n",
    "plt.yticks(rotation=45)\n",
    "plt.grid(axis='y', alpha=0.5)\n",
    "plt.gca().yaxis.set_major_formatter(formatter)\n",
    "plt.savefig('./result/2023년 서울시 자치구별 공공자전거 대여건수.png')\n",
    "plt.show()"
   ]
  }
 ],
 "metadata": {
  "kernelspec": {
   "display_name": "base",
   "language": "python",
   "name": "python3"
  },
  "language_info": {
   "codemirror_mode": {
    "name": "ipython",
    "version": 3
   },
   "file_extension": ".py",
   "mimetype": "text/x-python",
   "name": "python",
   "nbconvert_exporter": "python",
   "pygments_lexer": "ipython3",
   "version": "3.11.5"
  }
 },
 "nbformat": 4,
 "nbformat_minor": 2
}
